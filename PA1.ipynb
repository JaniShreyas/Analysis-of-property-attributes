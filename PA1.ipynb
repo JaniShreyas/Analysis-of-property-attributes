{
 "cells": [
  {
   "cell_type": "code",
   "execution_count": 150,
   "metadata": {},
   "outputs": [],
   "source": [
    "import pandas as pd"
   ]
  },
  {
   "cell_type": "code",
   "execution_count": 151,
   "metadata": {},
   "outputs": [],
   "source": [
    "df = pd.read_csv('Preprocessing1.csv')"
   ]
  },
  {
   "cell_type": "code",
   "execution_count": 152,
   "metadata": {},
   "outputs": [
    {
     "data": {
      "text/html": [
       "<div>\n",
       "<style scoped>\n",
       "    .dataframe tbody tr th:only-of-type {\n",
       "        vertical-align: middle;\n",
       "    }\n",
       "\n",
       "    .dataframe tbody tr th {\n",
       "        vertical-align: top;\n",
       "    }\n",
       "\n",
       "    .dataframe thead th {\n",
       "        text-align: right;\n",
       "    }\n",
       "</style>\n",
       "<table border=\"1\" class=\"dataframe\">\n",
       "  <thead>\n",
       "    <tr style=\"text-align: right;\">\n",
       "      <th></th>\n",
       "      <th>Airline</th>\n",
       "      <th>Source</th>\n",
       "      <th>Destination</th>\n",
       "      <th>Route</th>\n",
       "      <th>Dep_Time</th>\n",
       "      <th>Arrival_Time</th>\n",
       "      <th>Duration</th>\n",
       "      <th>Total_Stops</th>\n",
       "      <th>Additional_Info</th>\n",
       "      <th>Price</th>\n",
       "      <th>Month</th>\n",
       "      <th>WeekDay</th>\n",
       "      <th>Day</th>\n",
       "    </tr>\n",
       "  </thead>\n",
       "  <tbody>\n",
       "    <tr>\n",
       "      <th>0</th>\n",
       "      <td>Jet Airways</td>\n",
       "      <td>Delhi</td>\n",
       "      <td>Banglore</td>\n",
       "      <td>DEL → BOM → COK</td>\n",
       "      <td>20:00</td>\n",
       "      <td>04:25 10 Jun</td>\n",
       "      <td>26h 35m</td>\n",
       "      <td>1 stop</td>\n",
       "      <td>In-flight meal not included</td>\n",
       "      <td>14924</td>\n",
       "      <td>6</td>\n",
       "      <td>Thursday</td>\n",
       "      <td>6.0</td>\n",
       "    </tr>\n",
       "    <tr>\n",
       "      <th>1</th>\n",
       "      <td>Jet Airways</td>\n",
       "      <td>Delhi</td>\n",
       "      <td>Cochin</td>\n",
       "      <td>DEL → BOM → COK</td>\n",
       "      <td>16:00</td>\n",
       "      <td>19:00 10 Jun</td>\n",
       "      <td>27h</td>\n",
       "      <td>1 stop</td>\n",
       "      <td>In-flight meal not included</td>\n",
       "      <td>10577</td>\n",
       "      <td>6</td>\n",
       "      <td>Sunday</td>\n",
       "      <td>9.0</td>\n",
       "    </tr>\n",
       "    <tr>\n",
       "      <th>2</th>\n",
       "      <td>Jet Airways</td>\n",
       "      <td>Mumbai</td>\n",
       "      <td>Hyderabad</td>\n",
       "      <td>BOM → HYD</td>\n",
       "      <td>19:35</td>\n",
       "      <td>21:05</td>\n",
       "      <td>1h 30m</td>\n",
       "      <td>non-stop</td>\n",
       "      <td>No info</td>\n",
       "      <td>5678</td>\n",
       "      <td>3</td>\n",
       "      <td>Friday</td>\n",
       "      <td>15.0</td>\n",
       "    </tr>\n",
       "    <tr>\n",
       "      <th>3</th>\n",
       "      <td>Multiple carriers</td>\n",
       "      <td>Delhi</td>\n",
       "      <td>Banglore</td>\n",
       "      <td>DEL → BOM → COK</td>\n",
       "      <td>18:55</td>\n",
       "      <td>01:30 16 Jun</td>\n",
       "      <td>15h 10m</td>\n",
       "      <td>1 stop</td>\n",
       "      <td>In-flight meal not included</td>\n",
       "      <td>7408</td>\n",
       "      <td>5</td>\n",
       "      <td>Monday</td>\n",
       "      <td>6.0</td>\n",
       "    </tr>\n",
       "    <tr>\n",
       "      <th>4</th>\n",
       "      <td>Air India</td>\n",
       "      <td>Delhi</td>\n",
       "      <td>Cochin</td>\n",
       "      <td>DEL → COK</td>\n",
       "      <td>17:10</td>\n",
       "      <td>17:55</td>\n",
       "      <td>8h 20m</td>\n",
       "      <td>non-stop</td>\n",
       "      <td>No info</td>\n",
       "      <td>6724</td>\n",
       "      <td>6</td>\n",
       "      <td>Monday</td>\n",
       "      <td>24.0</td>\n",
       "    </tr>\n",
       "  </tbody>\n",
       "</table>\n",
       "</div>"
      ],
      "text/plain": [
       "             Airline  Source Destination            Route Dep_Time  \\\n",
       "0        Jet Airways   Delhi    Banglore  DEL → BOM → COK    20:00   \n",
       "1        Jet Airways   Delhi      Cochin  DEL → BOM → COK    16:00   \n",
       "2        Jet Airways  Mumbai   Hyderabad        BOM → HYD    19:35   \n",
       "3  Multiple carriers   Delhi    Banglore  DEL → BOM → COK    18:55   \n",
       "4          Air India   Delhi      Cochin        DEL → COK    17:10   \n",
       "\n",
       "   Arrival_Time Duration Total_Stops              Additional_Info  Price  \\\n",
       "0  04:25 10 Jun  26h 35m      1 stop  In-flight meal not included  14924   \n",
       "1  19:00 10 Jun      27h      1 stop  In-flight meal not included  10577   \n",
       "2         21:05   1h 30m    non-stop                      No info   5678   \n",
       "3  01:30 16 Jun  15h 10m      1 stop  In-flight meal not included   7408   \n",
       "4         17:55   8h 20m    non-stop                      No info   6724   \n",
       "\n",
       "   Month   WeekDay   Day  \n",
       "0      6  Thursday   6.0  \n",
       "1      6    Sunday   9.0  \n",
       "2      3    Friday  15.0  \n",
       "3      5    Monday   6.0  \n",
       "4      6    Monday  24.0  "
      ]
     },
     "execution_count": 152,
     "metadata": {},
     "output_type": "execute_result"
    }
   ],
   "source": [
    "df.head()"
   ]
  },
  {
   "cell_type": "code",
   "execution_count": 153,
   "metadata": {},
   "outputs": [
    {
     "data": {
      "text/plain": [
       "array(['Thursday', 'Sunday', 'Friday', 'Monday', 'Saturday', 'Wednesday',\n",
       "       'Tuesday'], dtype=object)"
      ]
     },
     "execution_count": 153,
     "metadata": {},
     "output_type": "execute_result"
    }
   ],
   "source": [
    "df[\"WeekDay\"].unique()"
   ]
  },
  {
   "cell_type": "markdown",
   "metadata": {},
   "source": [
    "Average Ticket Price"
   ]
  },
  {
   "cell_type": "code",
   "execution_count": 154,
   "metadata": {},
   "outputs": [
    {
     "data": {
      "text/plain": [
       "9027.895555555555"
      ]
     },
     "execution_count": 154,
     "metadata": {},
     "output_type": "execute_result"
    }
   ],
   "source": [
    "df[\"Price\"].mean()"
   ]
  },
  {
   "cell_type": "markdown",
   "metadata": {},
   "source": [
    "Month with highest number of flights"
   ]
  },
  {
   "cell_type": "code",
   "execution_count": 155,
   "metadata": {},
   "outputs": [
    {
     "data": {
      "text/plain": [
       "0    5\n",
       "Name: Month, dtype: int64"
      ]
     },
     "execution_count": 155,
     "metadata": {},
     "output_type": "execute_result"
    }
   ],
   "source": [
    "df[\"Month\"].mode()"
   ]
  },
  {
   "cell_type": "markdown",
   "metadata": {},
   "source": [
    "Average price on Weekends vs Weekdays"
   ]
  },
  {
   "cell_type": "code",
   "execution_count": 156,
   "metadata": {},
   "outputs": [
    {
     "name": "stdout",
     "output_type": "stream",
     "text": [
      "9058.016077170418 9015.219666215608 Greater price on Weekends\n"
     ]
    }
   ],
   "source": [
    "df_weekends = df[df[\"WeekDay\"].isin((\"Saturday\", \"Sunday\"))]\n",
    "df_weekdays = df[df[\"WeekDay\"].isin((\"Monday\", \"Tuesday\", \"Wednesday\", \"Thursday\", \"Friday\"))]\n",
    "\n",
    "avg_price_weekends = df_weekends[\"Price\"].mean()\n",
    "avg_price_weekdays = df_weekdays[\"Price\"].mean()\n",
    "print(avg_price_weekends, avg_price_weekdays, \"Greater price on\", (\"Weekends\" if avg_price_weekends > avg_price_weekdays else \"Weekdays\"))\n",
    "\n",
    "df_weekends = []\n",
    "df_weekdays = []"
   ]
  },
  {
   "cell_type": "markdown",
   "metadata": {},
   "source": [
    "Replace No Info with No info"
   ]
  },
  {
   "cell_type": "code",
   "execution_count": 157,
   "metadata": {},
   "outputs": [
    {
     "data": {
      "text/plain": [
       "0       In-flight meal not included\n",
       "1       In-flight meal not included\n",
       "2                           No info\n",
       "3       In-flight meal not included\n",
       "4                           No info\n",
       "                   ...             \n",
       "9445    In-flight meal not included\n",
       "9446                        No info\n",
       "9447                        No info\n",
       "9448                        No info\n",
       "9449                        No info\n",
       "Name: Additional_Info, Length: 9450, dtype: object"
      ]
     },
     "execution_count": 157,
     "metadata": {},
     "output_type": "execute_result"
    }
   ],
   "source": [
    "df[\"Additional_Info\"].replace(\"No Info\", \"No info\", inplace = True)\n",
    "df[\"Additional_Info\"]"
   ]
  },
  {
   "cell_type": "code",
   "execution_count": 158,
   "metadata": {},
   "outputs": [
    {
     "data": {
      "text/plain": [
       "1650"
      ]
     },
     "execution_count": 158,
     "metadata": {},
     "output_type": "execute_result"
    }
   ],
   "source": [
    "len(df[(df[\"Airline\"] == \"IndiGo\") & (df[\"Additional_Info\"] == \"No info\")])"
   ]
  },
  {
   "cell_type": "markdown",
   "metadata": {},
   "source": [
    "Change Durations to Seconds and then find Average Duration"
   ]
  },
  {
   "cell_type": "markdown",
   "metadata": {},
   "source": [
    "My dumb manual approach"
   ]
  },
  {
   "cell_type": "code",
   "execution_count": 159,
   "metadata": {},
   "outputs": [],
   "source": [
    "durations = df[\"Duration\"]\n",
    "durations_split = [duration.split(' ') for duration in durations]\n",
    "durations_in_s = []\n",
    "\n",
    "for duration in durations_split:\n",
    "    # There are a few possible cases\n",
    "    # one is that something like ['1h', '2m'] exist\n",
    "    # second is ['1h']\n",
    "    # third is ['2m']\n",
    "    # I need to check for all 3\n",
    "    # If length is 2, go forward with normal approach\n",
    "    # If length is 1, check if last letter is 'h' or 'm'\n",
    "    # Then do the needful\n",
    "\n",
    "    if len(duration) == 2:\n",
    "        hours_s, minutes_s = int(duration[0][:-1]) * 3600, int(duration[1][:-1]) * 60\n",
    "        durations_in_s.append(hours_s + minutes_s)\n",
    "    else:\n",
    "        time = duration[0]\n",
    "        if time[-1] == 'h':\n",
    "            # Only hours\n",
    "            hours_s = int(time[:-1]) * 3600\n",
    "            durations_in_s.append(hours_s)\n",
    "        else:\n",
    "            minutes_s = int(time[:-1]) * 60\n",
    "            durations_in_s.append(minutes_s)\n",
    "\n",
    "df[\"Duration_s\"] = pd.Series(durations_in_s)"
   ]
  },
  {
   "cell_type": "code",
   "execution_count": 160,
   "metadata": {},
   "outputs": [
    {
     "data": {
      "text/plain": [
       "38957.93650793651"
      ]
     },
     "execution_count": 160,
     "metadata": {},
     "output_type": "execute_result"
    }
   ],
   "source": [
    "df[\"Duration_s\"].mean()"
   ]
  },
  {
   "cell_type": "markdown",
   "metadata": {},
   "source": [
    "Pandas Clean Approach"
   ]
  },
  {
   "cell_type": "code",
   "execution_count": 161,
   "metadata": {},
   "outputs": [],
   "source": [
    "df_copy = df.copy()"
   ]
  },
  {
   "cell_type": "code",
   "execution_count": 162,
   "metadata": {},
   "outputs": [
    {
     "data": {
      "text/plain": [
       "Timedelta('0 days 10:49:17.936507936')"
      ]
     },
     "execution_count": 162,
     "metadata": {},
     "output_type": "execute_result"
    }
   ],
   "source": [
    "df_copy['Duration'] = pd.to_timedelta(df_copy['Duration'])\n",
    "df_copy['Duration'].dt.seconds\n",
    "df_copy['Duration'].mean()"
   ]
  },
  {
   "cell_type": "code",
   "execution_count": 163,
   "metadata": {},
   "outputs": [
    {
     "data": {
      "text/plain": [
       "38957.93650793651"
      ]
     },
     "execution_count": 163,
     "metadata": {},
     "output_type": "execute_result"
    }
   ],
   "source": [
    "df_copy['Duration_s'] = pd.Series(durations_in_s)\n",
    "df_copy['Duration_s'].mean()"
   ]
  },
  {
   "cell_type": "code",
   "execution_count": 164,
   "metadata": {},
   "outputs": [
    {
     "name": "stdout",
     "output_type": "stream",
     "text": [
      "Python 3.11.5\n"
     ]
    }
   ],
   "source": [
    "!python --version"
   ]
  },
  {
   "cell_type": "markdown",
   "metadata": {},
   "source": [
    "Convert dep_time and arrival_time to take only their hour component and then use it to categorize into 4 main types 'Morning', 'Afternoon', 'Evening', 'Night'"
   ]
  },
  {
   "cell_type": "code",
   "execution_count": 165,
   "metadata": {},
   "outputs": [
    {
     "data": {
      "text/plain": [
       "(0           Night\n",
       " 1       Afternoon\n",
       " 2         Evening\n",
       " 3         Evening\n",
       " 4         Evening\n",
       "           ...    \n",
       " 9445      Evening\n",
       " 9446      Evening\n",
       " 9447      Morning\n",
       " 9448      Morning\n",
       " 9449    Afternoon\n",
       " Name: Dep_Time, Length: 9450, dtype: object,\n",
       " 0         Night\n",
       " 1       Evening\n",
       " 2         Night\n",
       " 3         Night\n",
       " 4       Evening\n",
       "          ...   \n",
       " 9445    Evening\n",
       " 9446      Night\n",
       " 9447    Evening\n",
       " 9448    Evening\n",
       " 9449      Night\n",
       " Name: Arrival_Time, Length: 9450, dtype: object)"
      ]
     },
     "execution_count": 165,
     "metadata": {},
     "output_type": "execute_result"
    }
   ],
   "source": [
    "def categorize_hour(hour_min: str) -> str:\n",
    "    hour = int(hour_min.split(':')[0])\n",
    "    match hour:\n",
    "        case hour if 5 <= hour < 12:\n",
    "            return \"Morning\"\n",
    "        case hour if 12 <= hour < 17:\n",
    "            return \"Afternoon\"\n",
    "        case hour if 17 <= hour < 20:\n",
    "            return \"Evening\"\n",
    "        case hour if 20 <= hour or hour < 5:\n",
    "            return \"Night\"\n",
    "        case _:\n",
    "            print(hour)\n",
    "            raise ValueError(\"Wrong input value tehe\")\n",
    "\n",
    "df_copy['Dep_Time'] = df_copy['Dep_Time'].apply(categorize_hour)\n",
    "df_copy['Arrival_Time'] = df_copy['Arrival_Time'].apply(categorize_hour)\n",
    "df_copy['Dep_Time'], df_copy['Arrival_Time']"
   ]
  },
  {
   "cell_type": "code",
   "execution_count": 166,
   "metadata": {},
   "outputs": [
    {
     "data": {
      "text/plain": [
       "922"
      ]
     },
     "execution_count": 166,
     "metadata": {},
     "output_type": "execute_result"
    }
   ],
   "source": [
    "len(df_copy[(df_copy['Dep_Time'] == 'Morning') & (df_copy['Arrival_Time'] == 'Evening')])"
   ]
  },
  {
   "cell_type": "markdown",
   "metadata": {},
   "source": [
    "Encode Weekends as 1 and Weekdays as 0"
   ]
  },
  {
   "cell_type": "code",
   "execution_count": 167,
   "metadata": {},
   "outputs": [
    {
     "data": {
      "text/plain": [
       "0       0\n",
       "1       1\n",
       "2       0\n",
       "3       0\n",
       "4       0\n",
       "       ..\n",
       "9445    0\n",
       "9446    1\n",
       "9447    1\n",
       "9448    1\n",
       "9449    0\n",
       "Name: WeekDay, Length: 9450, dtype: int64"
      ]
     },
     "execution_count": 167,
     "metadata": {},
     "output_type": "execute_result"
    }
   ],
   "source": [
    "def encode_day(day: str) -> str:\n",
    "    if day in (\"Monday\", \"Tuesday\", \"Wednesday\", \"Thursday\", \"Friday\"):\n",
    "        return 0\n",
    "    else:\n",
    "        return 1\n",
    "    \n",
    "df_copy['WeekDay'] = df_copy['WeekDay'].apply(encode_day)\n",
    "df_copy['WeekDay']"
   ]
  },
  {
   "cell_type": "code",
   "execution_count": 170,
   "metadata": {},
   "outputs": [
    {
     "data": {
      "text/plain": [
       "WeekDay\n",
       "0    6651\n",
       "1    2799\n",
       "Name: count, dtype: int64"
      ]
     },
     "execution_count": 170,
     "metadata": {},
     "output_type": "execute_result"
    }
   ],
   "source": [
    "df_copy['WeekDay'].value_counts()"
   ]
  }
 ],
 "metadata": {
  "kernelspec": {
   "display_name": "nb",
   "language": "python",
   "name": "python3"
  },
  "language_info": {
   "codemirror_mode": {
    "name": "ipython",
    "version": 3
   },
   "file_extension": ".py",
   "mimetype": "text/x-python",
   "name": "python",
   "nbconvert_exporter": "python",
   "pygments_lexer": "ipython3",
   "version": "3.11.5"
  }
 },
 "nbformat": 4,
 "nbformat_minor": 2
}
